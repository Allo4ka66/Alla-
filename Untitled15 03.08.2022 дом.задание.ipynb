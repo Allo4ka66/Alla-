{
 "cells": [
  {
   "cell_type": "code",
   "execution_count": 1,
   "id": "b66ce5ad",
   "metadata": {},
   "outputs": [],
   "source": [
    "import nltk"
   ]
  },
  {
   "cell_type": "code",
   "execution_count": 2,
   "id": "226f0ed9",
   "metadata": {},
   "outputs": [],
   "source": [
    "import numpy as np\n",
    "import pandas as pd\n",
    "import matplotlib.pyplot as plt\n",
    "import seaborn as sns"
   ]
  },
  {
   "cell_type": "code",
   "execution_count": 3,
   "id": "acfb60ba",
   "metadata": {},
   "outputs": [],
   "source": [
    "TEXT = 'There is the house, where my family lives!'"
   ]
  },
  {
   "cell_type": "code",
   "execution_count": 4,
   "id": "a04d679b",
   "metadata": {},
   "outputs": [],
   "source": [
    "import nltk\n",
    "from nltk.tokenize import word_tokenize"
   ]
  },
  {
   "cell_type": "code",
   "execution_count": 6,
   "id": "78950d7d",
   "metadata": {},
   "outputs": [
    {
     "data": {
      "text/plain": [
       "['There', 'is', 'the', 'house', 'where', 'my', 'family', 'lives']"
      ]
     },
     "execution_count": 6,
     "metadata": {},
     "output_type": "execute_result"
    }
   ],
   "source": [
    "word_tokenize(TEXT)"
   ]
  },
  {
   "cell_type": "code",
   "execution_count": 7,
   "id": "fc4f6f76",
   "metadata": {},
   "outputs": [],
   "source": [
    "from nltk.corpus import stopwords"
   ]
  },
  {
   "cell_type": "code",
   "execution_count": 8,
   "id": "d4c42f69",
   "metadata": {},
   "outputs": [],
   "source": [
    "stop_words = stopwords.words('english')"
   ]
  },
  {
   "cell_type": "code",
   "execution_count": 9,
   "id": "f11ef861",
   "metadata": {},
   "outputs": [],
   "source": [
    "tokens = word_tokenize(TEXT.lower())"
   ]
  },
  {
   "cell_type": "code",
   "execution_count": 10,
   "id": "34f26430",
   "metadata": {},
   "outputs": [],
   "source": [
    "tokens = ' '. join([token for token in tokens if token not in stop_words])"
   ]
  },
  {
   "cell_type": "code",
   "execution_count": 11,
   "id": "84103511",
   "metadata": {},
   "outputs": [
    {
     "data": {
      "text/plain": [
       "'house family lives'"
      ]
     },
     "execution_count": 11,
     "metadata": {},
     "output_type": "execute_result"
    }
   ],
   "source": [
    "tokens"
   ]
  },
  {
   "cell_type": "code",
   "execution_count": 12,
   "id": "43ebc90c",
   "metadata": {},
   "outputs": [],
   "source": [
    "from nltk.stem import PorterStemmer"
   ]
  },
  {
   "cell_type": "code",
   "execution_count": 13,
   "id": "0a2bcd2d",
   "metadata": {},
   "outputs": [],
   "source": [
    "porter = PorterStemmer()"
   ]
  },
  {
   "cell_type": "code",
   "execution_count": 14,
   "id": "a778551c",
   "metadata": {},
   "outputs": [],
   "source": [
    "new_doc = ' '.join([porter.stem(token) for token in word_tokenize(tokens)])"
   ]
  },
  {
   "cell_type": "code",
   "execution_count": 15,
   "id": "f3118263",
   "metadata": {},
   "outputs": [
    {
     "data": {
      "text/plain": [
       "'hous famili live'"
      ]
     },
     "execution_count": 15,
     "metadata": {},
     "output_type": "execute_result"
    }
   ],
   "source": [
    "new_doc"
   ]
  },
  {
   "cell_type": "code",
   "execution_count": 16,
   "id": "f5f99752",
   "metadata": {},
   "outputs": [],
   "source": [
    "corpus = [\n",
    "    'His name is Paul',\n",
    "    'Paul likes to paint',\n",
    "    'Paul likes to play sports',\n",
    "    'A very good sport is running'\n",
    "]"
   ]
  },
  {
   "cell_type": "code",
   "execution_count": 17,
   "id": "98408470",
   "metadata": {},
   "outputs": [],
   "source": [
    "from sklearn.feature_extraction.text import CountVectorizer"
   ]
  },
  {
   "cell_type": "code",
   "execution_count": 18,
   "id": "f223da9f",
   "metadata": {},
   "outputs": [],
   "source": [
    "vectorizer = CountVectorizer()"
   ]
  },
  {
   "cell_type": "code",
   "execution_count": 19,
   "id": "04baac6a",
   "metadata": {},
   "outputs": [
    {
     "data": {
      "text/plain": [
       "CountVectorizer()"
      ]
     },
     "execution_count": 19,
     "metadata": {},
     "output_type": "execute_result"
    }
   ],
   "source": [
    "vectorizer.fit(corpus)"
   ]
  },
  {
   "cell_type": "code",
   "execution_count": 20,
   "id": "1c5033c0",
   "metadata": {},
   "outputs": [
    {
     "data": {
      "text/plain": [
       "array([[0, 1, 1, 0, 1, 0, 1, 0, 0, 0, 0, 0, 0],\n",
       "       [0, 0, 0, 1, 0, 1, 1, 0, 0, 0, 0, 1, 0],\n",
       "       [0, 0, 0, 1, 0, 0, 1, 1, 0, 0, 1, 1, 0],\n",
       "       [1, 0, 1, 0, 0, 0, 0, 0, 1, 1, 0, 0, 1]], dtype=int64)"
      ]
     },
     "execution_count": 20,
     "metadata": {},
     "output_type": "execute_result"
    }
   ],
   "source": [
    "vectorizer.transform(corpus).toarray()"
   ]
  },
  {
   "cell_type": "code",
   "execution_count": 21,
   "id": "0c5cd19c",
   "metadata": {},
   "outputs": [
    {
     "data": {
      "text/plain": [
       "{'his': 1,\n",
       " 'name': 4,\n",
       " 'is': 2,\n",
       " 'paul': 6,\n",
       " 'likes': 3,\n",
       " 'to': 11,\n",
       " 'paint': 5,\n",
       " 'play': 7,\n",
       " 'sports': 10,\n",
       " 'very': 12,\n",
       " 'good': 0,\n",
       " 'sport': 9,\n",
       " 'running': 8}"
      ]
     },
     "execution_count": 21,
     "metadata": {},
     "output_type": "execute_result"
    }
   ],
   "source": [
    "vectorizer.vocabulary_"
   ]
  },
  {
   "cell_type": "code",
   "execution_count": 22,
   "id": "4b165d52",
   "metadata": {},
   "outputs": [],
   "source": [
    "voc = {value : key for key, value in vectorizer.vocabulary_.items()}"
   ]
  },
  {
   "cell_type": "code",
   "execution_count": 23,
   "id": "fe2a4481",
   "metadata": {},
   "outputs": [
    {
     "data": {
      "text/plain": [
       "{1: 'his',\n",
       " 4: 'name',\n",
       " 2: 'is',\n",
       " 6: 'paul',\n",
       " 3: 'likes',\n",
       " 11: 'to',\n",
       " 5: 'paint',\n",
       " 7: 'play',\n",
       " 10: 'sports',\n",
       " 12: 'very',\n",
       " 0: 'good',\n",
       " 9: 'sport',\n",
       " 8: 'running'}"
      ]
     },
     "execution_count": 23,
     "metadata": {},
     "output_type": "execute_result"
    }
   ],
   "source": [
    "voc"
   ]
  },
  {
   "cell_type": "code",
   "execution_count": 24,
   "id": "1af68f21",
   "metadata": {},
   "outputs": [],
   "source": [
    "df = pd.DataFrame(vectorizer.transform(corpus).toarray(),\n",
    "                 columns = [voc[i] for i in range(len(voc))])"
   ]
  },
  {
   "cell_type": "code",
   "execution_count": 25,
   "id": "34a0743a",
   "metadata": {},
   "outputs": [
    {
     "data": {
      "text/html": [
       "<div>\n",
       "<style scoped>\n",
       "    .dataframe tbody tr th:only-of-type {\n",
       "        vertical-align: middle;\n",
       "    }\n",
       "\n",
       "    .dataframe tbody tr th {\n",
       "        vertical-align: top;\n",
       "    }\n",
       "\n",
       "    .dataframe thead th {\n",
       "        text-align: right;\n",
       "    }\n",
       "</style>\n",
       "<table border=\"1\" class=\"dataframe\">\n",
       "  <thead>\n",
       "    <tr style=\"text-align: right;\">\n",
       "      <th></th>\n",
       "      <th>good</th>\n",
       "      <th>his</th>\n",
       "      <th>is</th>\n",
       "      <th>likes</th>\n",
       "      <th>name</th>\n",
       "      <th>paint</th>\n",
       "      <th>paul</th>\n",
       "      <th>play</th>\n",
       "      <th>running</th>\n",
       "      <th>sport</th>\n",
       "      <th>sports</th>\n",
       "      <th>to</th>\n",
       "      <th>very</th>\n",
       "    </tr>\n",
       "  </thead>\n",
       "  <tbody>\n",
       "    <tr>\n",
       "      <th>0</th>\n",
       "      <td>0</td>\n",
       "      <td>1</td>\n",
       "      <td>1</td>\n",
       "      <td>0</td>\n",
       "      <td>1</td>\n",
       "      <td>0</td>\n",
       "      <td>1</td>\n",
       "      <td>0</td>\n",
       "      <td>0</td>\n",
       "      <td>0</td>\n",
       "      <td>0</td>\n",
       "      <td>0</td>\n",
       "      <td>0</td>\n",
       "    </tr>\n",
       "    <tr>\n",
       "      <th>1</th>\n",
       "      <td>0</td>\n",
       "      <td>0</td>\n",
       "      <td>0</td>\n",
       "      <td>1</td>\n",
       "      <td>0</td>\n",
       "      <td>1</td>\n",
       "      <td>1</td>\n",
       "      <td>0</td>\n",
       "      <td>0</td>\n",
       "      <td>0</td>\n",
       "      <td>0</td>\n",
       "      <td>1</td>\n",
       "      <td>0</td>\n",
       "    </tr>\n",
       "    <tr>\n",
       "      <th>2</th>\n",
       "      <td>0</td>\n",
       "      <td>0</td>\n",
       "      <td>0</td>\n",
       "      <td>1</td>\n",
       "      <td>0</td>\n",
       "      <td>0</td>\n",
       "      <td>1</td>\n",
       "      <td>1</td>\n",
       "      <td>0</td>\n",
       "      <td>0</td>\n",
       "      <td>1</td>\n",
       "      <td>1</td>\n",
       "      <td>0</td>\n",
       "    </tr>\n",
       "    <tr>\n",
       "      <th>3</th>\n",
       "      <td>1</td>\n",
       "      <td>0</td>\n",
       "      <td>1</td>\n",
       "      <td>0</td>\n",
       "      <td>0</td>\n",
       "      <td>0</td>\n",
       "      <td>0</td>\n",
       "      <td>0</td>\n",
       "      <td>1</td>\n",
       "      <td>1</td>\n",
       "      <td>0</td>\n",
       "      <td>0</td>\n",
       "      <td>1</td>\n",
       "    </tr>\n",
       "  </tbody>\n",
       "</table>\n",
       "</div>"
      ],
      "text/plain": [
       "   good  his  is  likes  name  paint  paul  play  running  sport  sports  to  \\\n",
       "0     0    1   1      0     1      0     1     0        0      0       0   0   \n",
       "1     0    0   0      1     0      1     1     0        0      0       0   1   \n",
       "2     0    0   0      1     0      0     1     1        0      0       1   1   \n",
       "3     1    0   1      0     0      0     0     0        1      1       0   0   \n",
       "\n",
       "   very  \n",
       "0     0  \n",
       "1     0  \n",
       "2     0  \n",
       "3     1  "
      ]
     },
     "execution_count": 25,
     "metadata": {},
     "output_type": "execute_result"
    }
   ],
   "source": [
    "df"
   ]
  },
  {
   "cell_type": "code",
   "execution_count": null,
   "id": "1a68db8d",
   "metadata": {},
   "outputs": [],
   "source": []
  }
 ],
 "metadata": {
  "kernelspec": {
   "display_name": "Python 3 (ipykernel)",
   "language": "python",
   "name": "python3"
  },
  "language_info": {
   "codemirror_mode": {
    "name": "ipython",
    "version": 3
   },
   "file_extension": ".py",
   "mimetype": "text/x-python",
   "name": "python",
   "nbconvert_exporter": "python",
   "pygments_lexer": "ipython3",
   "version": "3.7.9"
  }
 },
 "nbformat": 4,
 "nbformat_minor": 5
}
